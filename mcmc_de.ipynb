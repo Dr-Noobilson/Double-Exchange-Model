{
 "cells": [
  {
   "cell_type": "code",
   "execution_count": null,
   "metadata": {},
   "outputs": [],
   "source": [
    "import numpy as np\n",
    "import math\n",
    "import random\n",
    "import matplotlib.pyplot as plt\n",
    "from tqdm import tqdm, trange\n",
    "from plotter import plot_classical as pc\n",
    "from utils import generate_lattice, calculate_mag, metropolis, calculate_hamiltonian, compute_eigenvalues, calculate_dq0, quantum_mag\n",
    "from plotter import plot_magnetization\n",
    "from plotter import plot_dq_vs_q as pdvq"
   ]
  },
  {
   "cell_type": "markdown",
   "metadata": {},
   "source": [
    "### <span style=\"font-weight: bold; color: cyan;\">Metropolis Algorithm</span>"
   ]
  },
  {
   "cell_type": "code",
   "execution_count": null,
   "metadata": {},
   "outputs": [],
   "source": [
    "'''Metropolis algorithm for Double Exchange Model with thermalization'''\n",
    "def metropolis_new(spin_lattice, n, f, b, steps, t_0=1.0, iter=1000, type =1):\n",
    "\n",
    "    H = calculate_hamiltonian(spin_lattice, n, t_0)\n",
    "    E_ini, E_vec = compute_eigenvalues(H)\n",
    "    E_ini = E_ini[:f].sum()\n",
    "    # print(E_vec[:, :f]**2)\n",
    "    E_vec = np.sum(E_vec[:, :f]**2, axis=1, keepdims=True)\n",
    "    E_list = []\n",
    "    mm_list = []\n",
    "    qmm_list = []\n",
    "    dq0_list = []\n",
    "    # print(\"Eigenvectors: \", E_vec)\n",
    "\n",
    "    for i in range(iter):\n",
    "\n",
    "        theta, phi = spin_lattice[0], spin_lattice[1]\n",
    "\n",
    "        if i in steps:\n",
    "            mm_list.append(calculate_mag(spin_lattice))\n",
    "            qmm_list.append(quantum_mag(spin_lattice, E_vec))\n",
    "            # qmm_list.append(f* (1 - np.std(np.cos(theta)) / (2*n*n)))\n",
    "            # qmm_list.append(max(f * np.sum(np.sin(theta)) / (2*n*n), f * np.sum(np.cos(theta)) / (2*n*n)))\n",
    "            dq0_list.append(calculate_dq0(spin_lattice, n))\n",
    "\n",
    "        x, y = np.random.randint(0, n, size=2)\n",
    "        if i%20 == 0:  E_list.append(E_ini)\n",
    "\n",
    "        # delta_theta = np.random.uniform(-epsilon, epsilon)\n",
    "        # if type: delta_phi = np.random.uniform(-epsilon, epsilon)\n",
    "        # else: delta_phi = 0\n",
    "        # theta_new = (theta[x, y] + delta_theta) % np.pi\n",
    "        # phi_new = (phi[x, y] + delta_phi) % (2 * np.pi)\n",
    "\n",
    "        u = np.random.uniform(-1, 1)\n",
    "        if type: phi_new = np.random.uniform(0, 2 * np.pi)\n",
    "        else: phi_new = 0\n",
    "        theta_new = np.arccos(u)\n",
    "\n",
    "        spin_lattice_new = spin_lattice.copy()\n",
    "        spin_lattice_new[0, x, y], spin_lattice_new[1, x, y] = theta_new, phi_new    \n",
    "\n",
    "        H_new = calculate_hamiltonian(spin_lattice_new, n, t_0)\n",
    "        E_new, E_vec2 = compute_eigenvalues(H_new)\n",
    "        E_new = E_new[:f].sum()\n",
    "        E_vec2 = np.sum(E_vec2[:, :f]**2, axis=1, keepdims=True)\n",
    "\n",
    "        if E_new < E_ini or np.random.rand() < np.exp(-b * (E_new - E_ini)):\n",
    "            spin_lattice = spin_lattice_new\n",
    "            E_ini = E_new\n",
    "            E_vec = E_vec2\n",
    "\n",
    "    return spin_lattice, E_list, mm_list, qmm_list, dq0_list"
   ]
  },
  {
   "cell_type": "code",
   "execution_count": null,
   "metadata": {},
   "outputs": [],
   "source": [
    "'''Metropolis algorithm for Double Exchange Model for a series of temperatures'''\n",
    "def metro_series(spin_lattice, n, f, t_0, Temp, iter=1000, type=1):\n",
    "    mmvsT_list = []\n",
    "    qmmvsT_list = []\n",
    "    dq_list = []\n",
    "    # print(len(Temp))\n",
    "\n",
    "    for i in trange(len(Temp)):\n",
    "        b = 1 / Temp[i]\n",
    "        if i == 0: new_spin_lattice, E_list= metropolis(spin_lattice, n, f, b, t_0, 3000, type)\n",
    "        # steps = sorted(random.sample(range(iter), 200)) \n",
    "        steps = np.linspace(0, iter - 1, 100, dtype=int)\n",
    "        new_spin_lattice, E_list2, mm_list, qmm_list, dq0_list   = metropolis_new(new_spin_lattice, n, f, b, steps, t_0, iter, type)\n",
    "        E_list += E_list2\n",
    "        mmvsT_list.append(float(sum(mm_list)/len(mm_list)))\n",
    "        qmmvsT_list.append(abs(float(sum(qmm_list)/len(qmm_list))))\n",
    "        dq_list.append(float(sum(dq0_list)/len(dq0_list)))\n",
    "\n",
    "    return new_spin_lattice, E_list,  mmvsT_list, qmmvsT_list, dq_list"
   ]
  },
  {
   "cell_type": "markdown",
   "metadata": {},
   "source": [
    "### <span style=\"font-weight: bold; color: cyan;\">Initialization of Lattice</span>"
   ]
  },
  {
   "cell_type": "code",
   "execution_count": null,
   "metadata": {},
   "outputs": [],
   "source": [
    "'''\n",
    "iter: Number of iterations\n",
    "n: Size of the lattice\n",
    "epsilon: Maximum angle change during perturbation\n",
    "t_0: Bare hopping amplitude\n",
    "Temp: Series of temperatures\n",
    "N: Number of spins\n",
    "type: Type of initial configuration\n",
    "ff: Filling fraction of eg electrons\n",
    "'''''\n",
    "\n",
    "iter = 1000\n",
    "n = 4\n",
    "N = n*n\n",
    "epsilon = 1.0\n",
    "t_0 = 1\n",
    "type = 1 #type 1: random phi(s), type 0: phi =0\n",
    "\n",
    "# Temp = np.linspace(0.5, 0.0001, 20)\n",
    "Temp = np.concatenate((np.linspace(1.0, 0.11, 30), np.linspace(0.1, 0.0001, 10)))\n",
    "# Temp = (np.linspace(0.5, 0.0001, 50))\n",
    "\n",
    "ff = [int(x * N) for x in [0.5, 0.2, 0.3, 0.4, 0.5, 0.6, 0.65, 0.7, 0.8, 0.85, 0.9, 0.95]] #4\n",
    "# ff = [int(x * N) for x in [0.2, 0.3, 0.4, 0.5, 0.55, 0.6, 0.65, 0.7, 0.75, 0.8, 0.85, 0.9, 0.95, 0.98]] #6\n",
    "# ff = [int(x * N) for x in [0.65, 0.9]]\n",
    "print(ff)"
   ]
  },
  {
   "cell_type": "code",
   "execution_count": null,
   "metadata": {},
   "outputs": [],
   "source": [
    "spin_lattice = generate_lattice(n, seed = 7, type = type)\n",
    "pc(spin_lattice, plot_size = (6,3))"
   ]
  },
  {
   "cell_type": "markdown",
   "metadata": {},
   "source": [
    "### <span style=\"font-weight: bold; color: cyan;\">Implementation of MCMC</span>"
   ]
  },
  {
   "cell_type": "code",
   "execution_count": null,
   "metadata": {},
   "outputs": [],
   "source": [
    "mvT = []\n",
    "qmvT = []\n",
    "dqT = []\n",
    "N = n*n\n",
    "for i in ff:\n",
    "    print(f'Filling fraction: {i/N}')\n",
    "    spin_lattice_new, E_list,  mmvT_list, qmmvT_list, dq_list  = metro_series(spin_lattice.copy(), n, f=i, t_0 = t_0, Temp = Temp, iter=iter, type=type)\n",
    "    mvT.append(mmvT_list)\n",
    "    qmvT.append(qmmvT_list)\n",
    "    dqT.append(dq_list)\n",
    "    print(f\"E_list: {E_list}\\nmmvT_list: {mmvT_list}\\qmvT_list: {qmmvT_list}\\ndq_list: {dq_list}\\n\")\n",
    "    plot_magnetization(Temp, mmvT_list, i/N, plot_type = 'Classical')\n",
    "    plot_magnetization(Temp, qmmvT_list, i/N, plot_type = 'Quantum')\n",
    "    pc(spin_lattice_new, plot_size = (6,3))"
   ]
  },
  {
   "cell_type": "markdown",
   "metadata": {},
   "source": [
    "### <span style=\"font-weight: bold; color: cyan;\">Plotting Results</span>"
   ]
  },
  {
   "cell_type": "code",
   "execution_count": null,
   "metadata": {},
   "outputs": [],
   "source": [
    "'''Plotting Localized Spin Magnetization vs Temperature'''\n",
    "plt.figure(figsize=(6, 4))  # Set the figure size\n",
    "for i, mmvsT_list in enumerate(mvT):\n",
    "    if i not in []: #0,1,2,4,5,8\n",
    "        plt.plot(Temp, mmvsT_list, label=f'n={ff[i]/N:.2f}', linewidth=2)\n",
    "\n",
    "plt.xlabel('Temperature (T)', fontsize=12)\n",
    "plt.ylabel('Localized spin Magnetization (m)', fontsize=12)\n",
    "# plt.title('Magnetization vs Temperature', fontsize=14, fontweight='bold')\n",
    "plt.legend(title=\"Filling fraction\", loc='best')\n",
    "plt.grid(True, linestyle='--', alpha=0.7)\n",
    "plt.tight_layout()\n",
    "plt.show()"
   ]
  },
  {
   "cell_type": "code",
   "execution_count": null,
   "metadata": {},
   "outputs": [],
   "source": [
    "''''Plotting Hopping electron Magnetization vs Temperature'''\n",
    "plt.figure(figsize=(6, 4))  # Set the figure size\n",
    "for i, qmmvsT_list in enumerate(qmvT):\n",
    "    if i not in []:\n",
    "        plt.plot(Temp, qmmvsT_list, label=f'n={ff[i]/N:.2f}', linewidth=2)\n",
    "\n",
    "plt.xlabel('Temperature (T)', fontsize=12)\n",
    "plt.ylabel('Magnetization (m)', fontsize=12)\n",
    "# plt.title('Magnetization vs Temperature', fontsize=14, fontweight='bold')\n",
    "plt.legend(title=\"Filling fraction\", loc='best')\n",
    "plt.grid(True, linestyle='--', alpha=0.7)\n",
    "plt.tight_layout()\n",
    "plt.show()"
   ]
  },
  {
   "cell_type": "code",
   "execution_count": null,
   "metadata": {},
   "outputs": [],
   "source": [
    "'''Plotting Spin-Spin Correlation vs Temperature'''\n",
    "plt.figure(figsize=(6, 4))  # Set the figure size\n",
    "for i, dq_list in enumerate(dqT):\n",
    "    if i not in []:\n",
    "        plt.plot(Temp, dq_list, label=f'n={ff[i]/N:.2f}', linewidth=2)\n",
    "\n",
    "plt.xlabel('Temperature (T)', fontsize=12)\n",
    "plt.ylabel('|D(q=0)|', fontsize=12)\n",
    "# plt.title('Spin-Spin Correlation vs Temperature', fontsize=14, fontweight='bold')\n",
    "plt.legend(title=\"Different n values\", loc='best')\n",
    "plt.grid(True, linestyle='--', alpha=0.7)\n",
    "plt.tight_layout()\n",
    "plt.show()"
   ]
  },
  {
   "cell_type": "markdown",
   "metadata": {},
   "source": [
    "### <span style=\"font-weight: bold; color: cyan;\">Analysis of Final Configuration</span>"
   ]
  },
  {
   "cell_type": "code",
   "execution_count": null,
   "metadata": {},
   "outputs": [],
   "source": [
    "'''Plot initial and final configurations of spins'''\n",
    "pc(spin_lattice, plot_size = (6,3))\n",
    "pc(spin_lattice_new, plot_size = (6,3))"
   ]
  },
  {
   "cell_type": "code",
   "execution_count": null,
   "metadata": {},
   "outputs": [],
   "source": [
    "'''Energy vs Iterations plot'''\n",
    "plt.plot(E_list)\n",
    "print(len(E_list))\n",
    "plt.xlabel(f'Iteration*20')\n",
    "plt.ylabel('Energy')\n",
    "plt.title(f'Energy vs Iterations, iter = {iter+iter*20}')\n",
    "plt.grid(True)\n",
    "plt.show()"
   ]
  },
  {
   "cell_type": "code",
   "execution_count": null,
   "metadata": {},
   "outputs": [],
   "source": [
    "'''Print localized spin magnitization of the final configuration'''\n",
    "def calculate_mag(spin_lattice):\n",
    "\n",
    "    theta = spin_lattice[0]  # Polar angle θ\n",
    "    phi = spin_lattice[1]    # Azimuthal angle φ\n",
    "\n",
    "    mx = np.sum(np.sin(theta) * np.cos(phi))\n",
    "    my = np.sum(np.sin(theta) * np.sin(phi))\n",
    "    mz = np.sum(np.cos(theta))\n",
    "\n",
    "    return mx, my, mz\n",
    "\n",
    "mx, my, mz = calculate_mag(spin_lattice)\n",
    "print(mx, my, mz, math.sqrt(mx**2 + my**2 + mz**2))\n",
    "mx, my, mz = calculate_mag(spin_lattice_new)\n",
    "print(mx, my, mz, math.sqrt(mx**2 + my**2 + mz**2))"
   ]
  },
  {
   "cell_type": "markdown",
   "metadata": {},
   "source": [
    "### <span style=\"font-weight: bold; color: cyan;\"> Spin-Spin Correlation Heatmap</span>"
   ]
  },
  {
   "cell_type": "code",
   "execution_count": null,
   "metadata": {},
   "outputs": [],
   "source": [
    "pdvq(spin_lattice_new, n, np.abs)\n",
    "# pdvq(spin_lattice_new, n, lambda x: abs(np.real(x)))\n"
   ]
  },
  {
   "cell_type": "markdown",
   "metadata": {},
   "source": [
    "### <span style=\"font-weight: bold; color: cyan;\">PHASE DIAGRAM</span>"
   ]
  },
  {
   "cell_type": "code",
   "execution_count": null,
   "metadata": {},
   "outputs": [],
   "source": [
    "magvT = [x for i, x in enumerate(mvT) if i not in {4,10}]\n",
    "fill = [x/N for i, x in enumerate(ff) if i not in {4,10}] #0,1,2,4,5,8\n",
    "magvT = [lst[-15:][::-1] for lst in magvT]\n",
    "temp = Temp[-15:][::-1]"
   ]
  },
  {
   "cell_type": "code",
   "execution_count": null,
   "metadata": {},
   "outputs": [],
   "source": [
    "'''Phase Diagram plot'''\n",
    "# Ensure magvT is structured as rows corresponding to Temp and columns to fill\n",
    "magvT_array = np.array(magvT).T  # Convert to a 2D numpy array if not already\n",
    "\n",
    "plt.figure(figsize=(6, 5))\n",
    "heatmap = plt.imshow(\n",
    "    magvT_array, \n",
    "    aspect='auto', \n",
    "    interpolation='nearest', \n",
    "    cmap='viridis', \n",
    "    origin='lower',\n",
    "    extent=[min(fill), max(fill), min(temp), max(temp)]\n",
    ")\n",
    "\n",
    "plt.colorbar(heatmap, label='Magnetization (m)')\n",
    "plt.xlabel('Filling Fraction (n)', fontsize=12)\n",
    "plt.ylabel('Temperature (T)', fontsize=12)\n",
    "# plt.title('Phase diagram for the simplified DE model', fontsize=10, fontweight='bold')\n",
    "plt.tight_layout()\n",
    "plt.show()"
   ]
  }
 ],
 "metadata": {
  "kernelspec": {
   "display_name": "Python 3",
   "language": "python",
   "name": "python3"
  },
  "language_info": {
   "codemirror_mode": {
    "name": "ipython",
    "version": 3
   },
   "file_extension": ".py",
   "mimetype": "text/x-python",
   "name": "python",
   "nbconvert_exporter": "python",
   "pygments_lexer": "ipython3",
   "version": "3.10.12"
  }
 },
 "nbformat": 4,
 "nbformat_minor": 2
}
